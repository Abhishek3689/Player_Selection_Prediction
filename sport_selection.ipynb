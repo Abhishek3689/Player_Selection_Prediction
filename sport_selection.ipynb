{
 "cells": [
  {
   "cell_type": "code",
   "execution_count": 1,
   "id": "d3b4836d",
   "metadata": {},
   "outputs": [],
   "source": [
    "import pandas as pd\n",
    "import numpy as np\n",
    "import matplotlib.pyplot as plt\n",
    "import seaborn as sns"
   ]
  },
  {
   "cell_type": "code",
   "execution_count": 2,
   "id": "4beaf516",
   "metadata": {},
   "outputs": [],
   "source": [
    "import warnings\n",
    "warnings.simplefilter('ignore')"
   ]
  },
  {
   "cell_type": "code",
   "execution_count": 3,
   "id": "ff809904",
   "metadata": {},
   "outputs": [],
   "source": [
    "df=pd.read_csv(\"train.csv\")"
   ]
  },
  {
   "cell_type": "code",
   "execution_count": 4,
   "id": "825b0270",
   "metadata": {},
   "outputs": [
    {
     "data": {
      "text/plain": [
       "(13994, 30)"
      ]
     },
     "execution_count": 4,
     "metadata": {},
     "output_type": "execute_result"
    }
   ],
   "source": [
    "df.shape"
   ]
  },
  {
   "cell_type": "code",
   "execution_count": 5,
   "id": "a579ea1f",
   "metadata": {},
   "outputs": [
    {
     "data": {
      "text/html": [
       "<div>\n",
       "<style scoped>\n",
       "    .dataframe tbody tr th:only-of-type {\n",
       "        vertical-align: middle;\n",
       "    }\n",
       "\n",
       "    .dataframe tbody tr th {\n",
       "        vertical-align: top;\n",
       "    }\n",
       "\n",
       "    .dataframe thead th {\n",
       "        text-align: right;\n",
       "    }\n",
       "</style>\n",
       "<table border=\"1\" class=\"dataframe\">\n",
       "  <thead>\n",
       "    <tr style=\"text-align: right;\">\n",
       "      <th></th>\n",
       "      <th>player_id</th>\n",
       "      <th>name</th>\n",
       "      <th>age</th>\n",
       "      <th>gender</th>\n",
       "      <th>country</th>\n",
       "      <th>height</th>\n",
       "      <th>weight</th>\n",
       "      <th>ball_controlling_skills</th>\n",
       "      <th>body_reflexes</th>\n",
       "      <th>body_balance</th>\n",
       "      <th>...</th>\n",
       "      <th>strong_foot</th>\n",
       "      <th>behaviour_rating</th>\n",
       "      <th>matches_played</th>\n",
       "      <th>fitness_rating</th>\n",
       "      <th>trophies_won</th>\n",
       "      <th>dedication_level</th>\n",
       "      <th>coaching</th>\n",
       "      <th>years_of_experience</th>\n",
       "      <th>no_of_disqualifications</th>\n",
       "      <th>selection</th>\n",
       "    </tr>\n",
       "  </thead>\n",
       "  <tbody>\n",
       "    <tr>\n",
       "      <th>0</th>\n",
       "      <td>PLID_4964</td>\n",
       "      <td>Keva Horan</td>\n",
       "      <td>23</td>\n",
       "      <td>M</td>\n",
       "      <td>Ukraine</td>\n",
       "      <td>6'2</td>\n",
       "      <td>176lbs</td>\n",
       "      <td>77.0</td>\n",
       "      <td>58.0</td>\n",
       "      <td>47.0</td>\n",
       "      <td>...</td>\n",
       "      <td>Right</td>\n",
       "      <td>7.7</td>\n",
       "      <td>NaN</td>\n",
       "      <td>8.1</td>\n",
       "      <td>2.0</td>\n",
       "      <td>High</td>\n",
       "      <td>Talent Hunt</td>\n",
       "      <td>8.0</td>\n",
       "      <td>0.0</td>\n",
       "      <td>1</td>\n",
       "    </tr>\n",
       "    <tr>\n",
       "      <th>1</th>\n",
       "      <td>PLID_11234</td>\n",
       "      <td>Herma Tann</td>\n",
       "      <td>18</td>\n",
       "      <td>M</td>\n",
       "      <td>Russia</td>\n",
       "      <td>5'10</td>\n",
       "      <td>148lbs</td>\n",
       "      <td>54.0</td>\n",
       "      <td>69.0</td>\n",
       "      <td>70.0</td>\n",
       "      <td>...</td>\n",
       "      <td>Any</td>\n",
       "      <td>5.3</td>\n",
       "      <td>0.0</td>\n",
       "      <td>NaN</td>\n",
       "      <td>3.0</td>\n",
       "      <td>Medium</td>\n",
       "      <td>Source</td>\n",
       "      <td>3.0</td>\n",
       "      <td>0.0</td>\n",
       "      <td>0</td>\n",
       "    </tr>\n",
       "    <tr>\n",
       "      <th>2</th>\n",
       "      <td>PLID_19127</td>\n",
       "      <td>Eilene Kizer</td>\n",
       "      <td>16</td>\n",
       "      <td>F</td>\n",
       "      <td>Spain</td>\n",
       "      <td>6'2</td>\n",
       "      <td>172lbs</td>\n",
       "      <td>34.0</td>\n",
       "      <td>43.0</td>\n",
       "      <td>45.0</td>\n",
       "      <td>...</td>\n",
       "      <td>Left</td>\n",
       "      <td>4.7</td>\n",
       "      <td>0.0</td>\n",
       "      <td>6.6</td>\n",
       "      <td>5.0</td>\n",
       "      <td>Low</td>\n",
       "      <td>Academy</td>\n",
       "      <td>2.0</td>\n",
       "      <td>0.0</td>\n",
       "      <td>1</td>\n",
       "    </tr>\n",
       "    <tr>\n",
       "      <th>3</th>\n",
       "      <td>PLID_17467</td>\n",
       "      <td>Andrea Badgett</td>\n",
       "      <td>27</td>\n",
       "      <td>M</td>\n",
       "      <td>Chile</td>\n",
       "      <td>5'11</td>\n",
       "      <td>165lbs</td>\n",
       "      <td>79.0</td>\n",
       "      <td>73.0</td>\n",
       "      <td>76.0</td>\n",
       "      <td>...</td>\n",
       "      <td>Right</td>\n",
       "      <td>8.6</td>\n",
       "      <td>113.0</td>\n",
       "      <td>8.6</td>\n",
       "      <td>6.0</td>\n",
       "      <td>Medium</td>\n",
       "      <td>Academy</td>\n",
       "      <td>13.0</td>\n",
       "      <td>16.0</td>\n",
       "      <td>1</td>\n",
       "    </tr>\n",
       "    <tr>\n",
       "      <th>4</th>\n",
       "      <td>PLID_9661</td>\n",
       "      <td>Jeremiah Bumbalough</td>\n",
       "      <td>19</td>\n",
       "      <td>F</td>\n",
       "      <td>Argentina</td>\n",
       "      <td>5'8</td>\n",
       "      <td>158lbs</td>\n",
       "      <td>47.0</td>\n",
       "      <td>61.0</td>\n",
       "      <td>74.0</td>\n",
       "      <td>...</td>\n",
       "      <td>Right</td>\n",
       "      <td>NaN</td>\n",
       "      <td>0.0</td>\n",
       "      <td>5.7</td>\n",
       "      <td>5.0</td>\n",
       "      <td>Medium</td>\n",
       "      <td>Academy</td>\n",
       "      <td>4.0</td>\n",
       "      <td>0.0</td>\n",
       "      <td>0</td>\n",
       "    </tr>\n",
       "  </tbody>\n",
       "</table>\n",
       "<p>5 rows × 30 columns</p>\n",
       "</div>"
      ],
      "text/plain": [
       "    player_id                 name  age gender    country height  weight  \\\n",
       "0   PLID_4964           Keva Horan   23      M    Ukraine    6'2  176lbs   \n",
       "1  PLID_11234           Herma Tann   18      M     Russia   5'10  148lbs   \n",
       "2  PLID_19127         Eilene Kizer   16      F      Spain    6'2  172lbs   \n",
       "3  PLID_17467       Andrea Badgett   27      M      Chile   5'11  165lbs   \n",
       "4   PLID_9661  Jeremiah Bumbalough   19      F  Argentina    5'8  158lbs   \n",
       "\n",
       "   ball_controlling_skills  body_reflexes  body_balance  ...  strong_foot  \\\n",
       "0                     77.0           58.0          47.0  ...        Right   \n",
       "1                     54.0           69.0          70.0  ...          Any   \n",
       "2                     34.0           43.0          45.0  ...         Left   \n",
       "3                     79.0           73.0          76.0  ...        Right   \n",
       "4                     47.0           61.0          74.0  ...        Right   \n",
       "\n",
       "   behaviour_rating  matches_played  fitness_rating  trophies_won  \\\n",
       "0               7.7             NaN             8.1           2.0   \n",
       "1               5.3             0.0             NaN           3.0   \n",
       "2               4.7             0.0             6.6           5.0   \n",
       "3               8.6           113.0             8.6           6.0   \n",
       "4               NaN             0.0             5.7           5.0   \n",
       "\n",
       "   dedication_level     coaching  years_of_experience  \\\n",
       "0              High  Talent Hunt                  8.0   \n",
       "1            Medium       Source                  3.0   \n",
       "2               Low      Academy                  2.0   \n",
       "3            Medium      Academy                 13.0   \n",
       "4            Medium      Academy                  4.0   \n",
       "\n",
       "   no_of_disqualifications  selection  \n",
       "0                      0.0          1  \n",
       "1                      0.0          0  \n",
       "2                      0.0          1  \n",
       "3                     16.0          1  \n",
       "4                      0.0          0  \n",
       "\n",
       "[5 rows x 30 columns]"
      ]
     },
     "execution_count": 5,
     "metadata": {},
     "output_type": "execute_result"
    }
   ],
   "source": [
    "df.head()"
   ]
  },
  {
   "cell_type": "code",
   "execution_count": 6,
   "id": "896b5042",
   "metadata": {},
   "outputs": [],
   "source": [
    "pd.set_option('display.max_columns', 50)"
   ]
  },
  {
   "cell_type": "code",
   "execution_count": 7,
   "id": "0c97f0ca",
   "metadata": {},
   "outputs": [
    {
     "data": {
      "text/html": [
       "<div>\n",
       "<style scoped>\n",
       "    .dataframe tbody tr th:only-of-type {\n",
       "        vertical-align: middle;\n",
       "    }\n",
       "\n",
       "    .dataframe tbody tr th {\n",
       "        vertical-align: top;\n",
       "    }\n",
       "\n",
       "    .dataframe thead th {\n",
       "        text-align: right;\n",
       "    }\n",
       "</style>\n",
       "<table border=\"1\" class=\"dataframe\">\n",
       "  <thead>\n",
       "    <tr style=\"text-align: right;\">\n",
       "      <th></th>\n",
       "      <th>player_id</th>\n",
       "      <th>name</th>\n",
       "      <th>age</th>\n",
       "      <th>gender</th>\n",
       "      <th>country</th>\n",
       "      <th>height</th>\n",
       "      <th>weight</th>\n",
       "      <th>ball_controlling_skills</th>\n",
       "      <th>body_reflexes</th>\n",
       "      <th>body_balance</th>\n",
       "      <th>jumping_skills</th>\n",
       "      <th>penalties_conversion_rate</th>\n",
       "      <th>mental_strength</th>\n",
       "      <th>goalkeeping_skills</th>\n",
       "      <th>defending_skills</th>\n",
       "      <th>passing_skills</th>\n",
       "      <th>dribbling_skills</th>\n",
       "      <th>shot_accuracy</th>\n",
       "      <th>body_strength_stamina</th>\n",
       "      <th>max_running_speed</th>\n",
       "      <th>strong_foot</th>\n",
       "      <th>behaviour_rating</th>\n",
       "      <th>matches_played</th>\n",
       "      <th>fitness_rating</th>\n",
       "      <th>trophies_won</th>\n",
       "      <th>dedication_level</th>\n",
       "      <th>coaching</th>\n",
       "      <th>years_of_experience</th>\n",
       "      <th>no_of_disqualifications</th>\n",
       "      <th>selection</th>\n",
       "    </tr>\n",
       "  </thead>\n",
       "  <tbody>\n",
       "    <tr>\n",
       "      <th>0</th>\n",
       "      <td>PLID_4964</td>\n",
       "      <td>Keva Horan</td>\n",
       "      <td>23</td>\n",
       "      <td>M</td>\n",
       "      <td>Ukraine</td>\n",
       "      <td>6'2</td>\n",
       "      <td>176lbs</td>\n",
       "      <td>77.0</td>\n",
       "      <td>58.0</td>\n",
       "      <td>47.0</td>\n",
       "      <td>59.0</td>\n",
       "      <td>41.0</td>\n",
       "      <td>73.0</td>\n",
       "      <td>13.0</td>\n",
       "      <td>69.0</td>\n",
       "      <td>70.0</td>\n",
       "      <td>36.0</td>\n",
       "      <td>50.0</td>\n",
       "      <td>72.0</td>\n",
       "      <td>24.4</td>\n",
       "      <td>Right</td>\n",
       "      <td>7.7</td>\n",
       "      <td>NaN</td>\n",
       "      <td>8.1</td>\n",
       "      <td>2.0</td>\n",
       "      <td>High</td>\n",
       "      <td>Talent Hunt</td>\n",
       "      <td>8.0</td>\n",
       "      <td>0.0</td>\n",
       "      <td>1</td>\n",
       "    </tr>\n",
       "    <tr>\n",
       "      <th>1</th>\n",
       "      <td>PLID_11234</td>\n",
       "      <td>Herma Tann</td>\n",
       "      <td>18</td>\n",
       "      <td>M</td>\n",
       "      <td>Russia</td>\n",
       "      <td>5'10</td>\n",
       "      <td>148lbs</td>\n",
       "      <td>54.0</td>\n",
       "      <td>69.0</td>\n",
       "      <td>70.0</td>\n",
       "      <td>62.0</td>\n",
       "      <td>53.0</td>\n",
       "      <td>43.0</td>\n",
       "      <td>10.0</td>\n",
       "      <td>30.0</td>\n",
       "      <td>50.0</td>\n",
       "      <td>30.0</td>\n",
       "      <td>53.0</td>\n",
       "      <td>54.0</td>\n",
       "      <td>22.6</td>\n",
       "      <td>Any</td>\n",
       "      <td>5.3</td>\n",
       "      <td>0.0</td>\n",
       "      <td>NaN</td>\n",
       "      <td>3.0</td>\n",
       "      <td>Medium</td>\n",
       "      <td>Source</td>\n",
       "      <td>3.0</td>\n",
       "      <td>0.0</td>\n",
       "      <td>0</td>\n",
       "    </tr>\n",
       "    <tr>\n",
       "      <th>2</th>\n",
       "      <td>PLID_19127</td>\n",
       "      <td>Eilene Kizer</td>\n",
       "      <td>16</td>\n",
       "      <td>F</td>\n",
       "      <td>Spain</td>\n",
       "      <td>6'2</td>\n",
       "      <td>172lbs</td>\n",
       "      <td>34.0</td>\n",
       "      <td>43.0</td>\n",
       "      <td>45.0</td>\n",
       "      <td>69.0</td>\n",
       "      <td>49.0</td>\n",
       "      <td>45.0</td>\n",
       "      <td>10.0</td>\n",
       "      <td>57.0</td>\n",
       "      <td>37.0</td>\n",
       "      <td>18.0</td>\n",
       "      <td>NaN</td>\n",
       "      <td>66.0</td>\n",
       "      <td>23.2</td>\n",
       "      <td>Left</td>\n",
       "      <td>4.7</td>\n",
       "      <td>0.0</td>\n",
       "      <td>6.6</td>\n",
       "      <td>5.0</td>\n",
       "      <td>Low</td>\n",
       "      <td>Academy</td>\n",
       "      <td>2.0</td>\n",
       "      <td>0.0</td>\n",
       "      <td>1</td>\n",
       "    </tr>\n",
       "    <tr>\n",
       "      <th>3</th>\n",
       "      <td>PLID_17467</td>\n",
       "      <td>Andrea Badgett</td>\n",
       "      <td>27</td>\n",
       "      <td>M</td>\n",
       "      <td>Chile</td>\n",
       "      <td>5'11</td>\n",
       "      <td>165lbs</td>\n",
       "      <td>79.0</td>\n",
       "      <td>73.0</td>\n",
       "      <td>76.0</td>\n",
       "      <td>86.0</td>\n",
       "      <td>81.0</td>\n",
       "      <td>80.0</td>\n",
       "      <td>3.0</td>\n",
       "      <td>85.0</td>\n",
       "      <td>80.0</td>\n",
       "      <td>40.0</td>\n",
       "      <td>79.0</td>\n",
       "      <td>78.0</td>\n",
       "      <td>21.2</td>\n",
       "      <td>Right</td>\n",
       "      <td>8.6</td>\n",
       "      <td>113.0</td>\n",
       "      <td>8.6</td>\n",
       "      <td>6.0</td>\n",
       "      <td>Medium</td>\n",
       "      <td>Academy</td>\n",
       "      <td>13.0</td>\n",
       "      <td>16.0</td>\n",
       "      <td>1</td>\n",
       "    </tr>\n",
       "    <tr>\n",
       "      <th>4</th>\n",
       "      <td>PLID_9661</td>\n",
       "      <td>Jeremiah Bumbalough</td>\n",
       "      <td>19</td>\n",
       "      <td>F</td>\n",
       "      <td>Argentina</td>\n",
       "      <td>5'8</td>\n",
       "      <td>158lbs</td>\n",
       "      <td>47.0</td>\n",
       "      <td>61.0</td>\n",
       "      <td>74.0</td>\n",
       "      <td>57.0</td>\n",
       "      <td>49.0</td>\n",
       "      <td>35.0</td>\n",
       "      <td>9.0</td>\n",
       "      <td>60.0</td>\n",
       "      <td>39.0</td>\n",
       "      <td>34.0</td>\n",
       "      <td>35.0</td>\n",
       "      <td>56.0</td>\n",
       "      <td>23.4</td>\n",
       "      <td>Right</td>\n",
       "      <td>NaN</td>\n",
       "      <td>0.0</td>\n",
       "      <td>5.7</td>\n",
       "      <td>5.0</td>\n",
       "      <td>Medium</td>\n",
       "      <td>Academy</td>\n",
       "      <td>4.0</td>\n",
       "      <td>0.0</td>\n",
       "      <td>0</td>\n",
       "    </tr>\n",
       "  </tbody>\n",
       "</table>\n",
       "</div>"
      ],
      "text/plain": [
       "    player_id                 name  age gender    country height  weight  \\\n",
       "0   PLID_4964           Keva Horan   23      M    Ukraine    6'2  176lbs   \n",
       "1  PLID_11234           Herma Tann   18      M     Russia   5'10  148lbs   \n",
       "2  PLID_19127         Eilene Kizer   16      F      Spain    6'2  172lbs   \n",
       "3  PLID_17467       Andrea Badgett   27      M      Chile   5'11  165lbs   \n",
       "4   PLID_9661  Jeremiah Bumbalough   19      F  Argentina    5'8  158lbs   \n",
       "\n",
       "   ball_controlling_skills  body_reflexes  body_balance  jumping_skills  \\\n",
       "0                     77.0           58.0          47.0            59.0   \n",
       "1                     54.0           69.0          70.0            62.0   \n",
       "2                     34.0           43.0          45.0            69.0   \n",
       "3                     79.0           73.0          76.0            86.0   \n",
       "4                     47.0           61.0          74.0            57.0   \n",
       "\n",
       "   penalties_conversion_rate  mental_strength  goalkeeping_skills  \\\n",
       "0                       41.0             73.0                13.0   \n",
       "1                       53.0             43.0                10.0   \n",
       "2                       49.0             45.0                10.0   \n",
       "3                       81.0             80.0                 3.0   \n",
       "4                       49.0             35.0                 9.0   \n",
       "\n",
       "   defending_skills  passing_skills  dribbling_skills  shot_accuracy  \\\n",
       "0              69.0            70.0              36.0           50.0   \n",
       "1              30.0            50.0              30.0           53.0   \n",
       "2              57.0            37.0              18.0            NaN   \n",
       "3              85.0            80.0              40.0           79.0   \n",
       "4              60.0            39.0              34.0           35.0   \n",
       "\n",
       "   body_strength_stamina  max_running_speed strong_foot  behaviour_rating  \\\n",
       "0                   72.0               24.4       Right               7.7   \n",
       "1                   54.0               22.6         Any               5.3   \n",
       "2                   66.0               23.2        Left               4.7   \n",
       "3                   78.0               21.2       Right               8.6   \n",
       "4                   56.0               23.4       Right               NaN   \n",
       "\n",
       "   matches_played  fitness_rating  trophies_won dedication_level     coaching  \\\n",
       "0             NaN             8.1           2.0             High  Talent Hunt   \n",
       "1             0.0             NaN           3.0           Medium       Source   \n",
       "2             0.0             6.6           5.0              Low      Academy   \n",
       "3           113.0             8.6           6.0           Medium      Academy   \n",
       "4             0.0             5.7           5.0           Medium      Academy   \n",
       "\n",
       "   years_of_experience  no_of_disqualifications  selection  \n",
       "0                  8.0                      0.0          1  \n",
       "1                  3.0                      0.0          0  \n",
       "2                  2.0                      0.0          1  \n",
       "3                 13.0                     16.0          1  \n",
       "4                  4.0                      0.0          0  "
      ]
     },
     "execution_count": 7,
     "metadata": {},
     "output_type": "execute_result"
    }
   ],
   "source": [
    "df.head()"
   ]
  },
  {
   "cell_type": "code",
   "execution_count": 8,
   "id": "0249a8c3",
   "metadata": {},
   "outputs": [
    {
     "data": {
      "text/plain": [
       "player_id                     object\n",
       "name                          object\n",
       "age                            int64\n",
       "gender                        object\n",
       "country                       object\n",
       "height                        object\n",
       "weight                        object\n",
       "ball_controlling_skills      float64\n",
       "body_reflexes                float64\n",
       "body_balance                 float64\n",
       "jumping_skills               float64\n",
       "penalties_conversion_rate    float64\n",
       "mental_strength              float64\n",
       "goalkeeping_skills           float64\n",
       "defending_skills             float64\n",
       "passing_skills               float64\n",
       "dribbling_skills             float64\n",
       "shot_accuracy                float64\n",
       "body_strength_stamina        float64\n",
       "max_running_speed            float64\n",
       "strong_foot                   object\n",
       "behaviour_rating             float64\n",
       "matches_played               float64\n",
       "fitness_rating               float64\n",
       "trophies_won                 float64\n",
       "dedication_level              object\n",
       "coaching                      object\n",
       "years_of_experience          float64\n",
       "no_of_disqualifications      float64\n",
       "selection                      int64\n",
       "dtype: object"
      ]
     },
     "execution_count": 8,
     "metadata": {},
     "output_type": "execute_result"
    }
   ],
   "source": [
    "df.dtypes"
   ]
  },
  {
   "cell_type": "code",
   "execution_count": 9,
   "id": "f4cfdb3f",
   "metadata": {},
   "outputs": [
    {
     "data": {
      "text/plain": [
       "player_id                      0\n",
       "name                           0\n",
       "age                            0\n",
       "gender                        19\n",
       "country                        0\n",
       "height                         0\n",
       "weight                       417\n",
       "ball_controlling_skills      413\n",
       "body_reflexes                  0\n",
       "body_balance                   0\n",
       "jumping_skills                24\n",
       "penalties_conversion_rate     30\n",
       "mental_strength               28\n",
       "goalkeeping_skills             0\n",
       "defending_skills               0\n",
       "passing_skills                 0\n",
       "dribbling_skills               0\n",
       "shot_accuracy                572\n",
       "body_strength_stamina          0\n",
       "max_running_speed              0\n",
       "strong_foot                  552\n",
       "behaviour_rating             703\n",
       "matches_played               666\n",
       "fitness_rating               695\n",
       "trophies_won                   0\n",
       "dedication_level               0\n",
       "coaching                     125\n",
       "years_of_experience          144\n",
       "no_of_disqualifications        0\n",
       "selection                      0\n",
       "dtype: int64"
      ]
     },
     "execution_count": 9,
     "metadata": {},
     "output_type": "execute_result"
    }
   ],
   "source": [
    "df.isnull().sum()"
   ]
  },
  {
   "cell_type": "code",
   "execution_count": 10,
   "id": "a9f114de",
   "metadata": {},
   "outputs": [
    {
     "data": {
      "text/plain": [
       "player_id                    13994\n",
       "name                         13994\n",
       "age                             39\n",
       "gender                           2\n",
       "country                        163\n",
       "height                          31\n",
       "weight                          88\n",
       "ball_controlling_skills         89\n",
       "body_reflexes                   84\n",
       "body_balance                    86\n",
       "jumping_skills                  74\n",
       "penalties_conversion_rate       86\n",
       "mental_strength                 83\n",
       "goalkeeping_skills              65\n",
       "defending_skills                78\n",
       "passing_skills                  77\n",
       "dribbling_skills                48\n",
       "shot_accuracy                   79\n",
       "body_strength_stamina           73\n",
       "max_running_speed              166\n",
       "strong_foot                      4\n",
       "behaviour_rating                64\n",
       "matches_played                  18\n",
       "fitness_rating                  85\n",
       "trophies_won                    10\n",
       "dedication_level                 3\n",
       "coaching                         4\n",
       "years_of_experience             25\n",
       "no_of_disqualifications         17\n",
       "selection                        2\n",
       "dtype: int64"
      ]
     },
     "execution_count": 10,
     "metadata": {},
     "output_type": "execute_result"
    }
   ],
   "source": [
    "df.nunique()"
   ]
  },
  {
   "cell_type": "code",
   "execution_count": 11,
   "id": "01c3263a",
   "metadata": {},
   "outputs": [],
   "source": [
    "## Made a copy so that i can do preprocessing steps on copied data so that original does not get affected\n",
    "df_new=df.copy() "
   ]
  },
  {
   "cell_type": "code",
   "execution_count": 12,
   "id": "79dcc4a8",
   "metadata": {},
   "outputs": [],
   "source": [
    "df_new=df_new.drop(['player_id','name','country'],axis=1)"
   ]
  },
  {
   "cell_type": "code",
   "execution_count": 13,
   "id": "74e08548",
   "metadata": {},
   "outputs": [],
   "source": [
    "df_cat=df_new.select_dtypes('O')"
   ]
  },
  {
   "cell_type": "code",
   "execution_count": 14,
   "id": "c7a4215e",
   "metadata": {},
   "outputs": [],
   "source": [
    "df_num=df_new.select_dtypes(['int','float'])"
   ]
  },
  {
   "cell_type": "code",
   "execution_count": 15,
   "id": "8df27c0d",
   "metadata": {},
   "outputs": [
    {
     "data": {
      "text/plain": [
       "(13994, 21)"
      ]
     },
     "execution_count": 15,
     "metadata": {},
     "output_type": "execute_result"
    }
   ],
   "source": [
    "df_num.shape"
   ]
  },
  {
   "cell_type": "code",
   "execution_count": 16,
   "id": "ef5ee53b",
   "metadata": {},
   "outputs": [
    {
     "data": {
      "text/plain": [
       "array(['176lbs', '148lbs', '172lbs', '165lbs', '158lbs', '174lbs',\n",
       "       '168lbs', '183lbs', '185lbs', '156lbs', '202lbs', '154lbs',\n",
       "       '161lbs', '145lbs', '143lbs', '152lbs', '163lbs', '146lbs', nan,\n",
       "       '192lbs', '181lbs', '190lbs', '196lbs', '141lbs', '150lbs',\n",
       "       '169lbs', '179lbs', '160lbs', '157lbs', '187lbs', '137lbs',\n",
       "       '171lbs', '134lbs', '170lbs', '139lbs', '140lbs', '159lbs',\n",
       "       '184lbs', '178lbs', '151lbs', '162lbs', '138lbs', '182lbs',\n",
       "       '200lbs', '136lbs', '189lbs', '149lbs', '167lbs', '201lbs',\n",
       "       '198lbs', '123lbs', '194lbs', '132lbs', '127lbs', '193lbs',\n",
       "       '126lbs', '212lbs', '207lbs', '180lbs', '147lbs', '130lbs',\n",
       "       '173lbs', '205lbs', '209lbs', '203lbs', '191lbs', '195lbs',\n",
       "       '128lbs', '129lbs', '211lbs', '125lbs', '216lbs', '121lbs',\n",
       "       '214lbs', '117lbs', '206lbs', '225lbs', '204lbs', '220lbs',\n",
       "       '110lbs', '223lbs', '218lbs', '118lbs', '119lbs', '227lbs',\n",
       "       '243lbs', '234lbs', '213lbs', '215lbs'], dtype=object)"
      ]
     },
     "execution_count": 16,
     "metadata": {},
     "output_type": "execute_result"
    }
   ],
   "source": [
    "df_new['weight'].unique()"
   ]
  },
  {
   "cell_type": "code",
   "execution_count": 17,
   "id": "49886c07",
   "metadata": {},
   "outputs": [
    {
     "data": {
      "text/html": [
       "<div>\n",
       "<style scoped>\n",
       "    .dataframe tbody tr th:only-of-type {\n",
       "        vertical-align: middle;\n",
       "    }\n",
       "\n",
       "    .dataframe tbody tr th {\n",
       "        vertical-align: top;\n",
       "    }\n",
       "\n",
       "    .dataframe thead th {\n",
       "        text-align: right;\n",
       "    }\n",
       "</style>\n",
       "<table border=\"1\" class=\"dataframe\">\n",
       "  <thead>\n",
       "    <tr style=\"text-align: right;\">\n",
       "      <th></th>\n",
       "      <th>gender</th>\n",
       "      <th>height</th>\n",
       "      <th>weight</th>\n",
       "      <th>strong_foot</th>\n",
       "      <th>dedication_level</th>\n",
       "      <th>coaching</th>\n",
       "    </tr>\n",
       "  </thead>\n",
       "  <tbody>\n",
       "    <tr>\n",
       "      <th>0</th>\n",
       "      <td>M</td>\n",
       "      <td>6'2</td>\n",
       "      <td>176lbs</td>\n",
       "      <td>Right</td>\n",
       "      <td>High</td>\n",
       "      <td>Talent Hunt</td>\n",
       "    </tr>\n",
       "    <tr>\n",
       "      <th>1</th>\n",
       "      <td>M</td>\n",
       "      <td>5'10</td>\n",
       "      <td>148lbs</td>\n",
       "      <td>Any</td>\n",
       "      <td>Medium</td>\n",
       "      <td>Source</td>\n",
       "    </tr>\n",
       "    <tr>\n",
       "      <th>2</th>\n",
       "      <td>F</td>\n",
       "      <td>6'2</td>\n",
       "      <td>172lbs</td>\n",
       "      <td>Left</td>\n",
       "      <td>Low</td>\n",
       "      <td>Academy</td>\n",
       "    </tr>\n",
       "    <tr>\n",
       "      <th>3</th>\n",
       "      <td>M</td>\n",
       "      <td>5'11</td>\n",
       "      <td>165lbs</td>\n",
       "      <td>Right</td>\n",
       "      <td>Medium</td>\n",
       "      <td>Academy</td>\n",
       "    </tr>\n",
       "    <tr>\n",
       "      <th>4</th>\n",
       "      <td>F</td>\n",
       "      <td>5'8</td>\n",
       "      <td>158lbs</td>\n",
       "      <td>Right</td>\n",
       "      <td>Medium</td>\n",
       "      <td>Academy</td>\n",
       "    </tr>\n",
       "  </tbody>\n",
       "</table>\n",
       "</div>"
      ],
      "text/plain": [
       "  gender height  weight strong_foot dedication_level     coaching\n",
       "0      M    6'2  176lbs       Right             High  Talent Hunt\n",
       "1      M   5'10  148lbs         Any           Medium       Source\n",
       "2      F    6'2  172lbs        Left              Low      Academy\n",
       "3      M   5'11  165lbs       Right           Medium      Academy\n",
       "4      F    5'8  158lbs       Right           Medium      Academy"
      ]
     },
     "execution_count": 17,
     "metadata": {},
     "output_type": "execute_result"
    }
   ],
   "source": [
    "df_cat.head()"
   ]
  },
  {
   "cell_type": "code",
   "execution_count": 18,
   "id": "b63f3254",
   "metadata": {},
   "outputs": [
    {
     "data": {
      "text/plain": [
       "gender               19\n",
       "height                0\n",
       "weight              417\n",
       "strong_foot         552\n",
       "dedication_level      0\n",
       "coaching            125\n",
       "dtype: int64"
      ]
     },
     "execution_count": 18,
     "metadata": {},
     "output_type": "execute_result"
    }
   ],
   "source": [
    "df_cat.isnull().sum()"
   ]
  },
  {
   "cell_type": "code",
   "execution_count": 19,
   "id": "46966a7e",
   "metadata": {},
   "outputs": [],
   "source": [
    "df_cat['gender']=df_cat['gender'].fillna(df_cat['gender'].mode()[0])"
   ]
  },
  {
   "cell_type": "code",
   "execution_count": 20,
   "id": "17687c1a",
   "metadata": {},
   "outputs": [],
   "source": [
    "df_cat['weight']=df_cat['weight'].fillna(df_cat['weight'].mode()[0])"
   ]
  },
  {
   "cell_type": "code",
   "execution_count": 21,
   "id": "4b0fba6d",
   "metadata": {},
   "outputs": [],
   "source": [
    "df_cat['strong_foot']=df_cat['strong_foot'].fillna(df_cat['strong_foot'].mode()[0])"
   ]
  },
  {
   "cell_type": "code",
   "execution_count": 22,
   "id": "467f737d",
   "metadata": {},
   "outputs": [],
   "source": [
    "df_cat['coaching']=df_cat['coaching'].fillna(df_cat['coaching'].mode()[0])"
   ]
  },
  {
   "cell_type": "code",
   "execution_count": 23,
   "id": "8e30a86e",
   "metadata": {},
   "outputs": [
    {
     "data": {
      "text/plain": [
       "gender              0\n",
       "height              0\n",
       "weight              0\n",
       "strong_foot         0\n",
       "dedication_level    0\n",
       "coaching            0\n",
       "dtype: int64"
      ]
     },
     "execution_count": 23,
     "metadata": {},
     "output_type": "execute_result"
    }
   ],
   "source": [
    "df_cat.isnull().sum()"
   ]
  },
  {
   "cell_type": "code",
   "execution_count": 24,
   "id": "bd6e8450",
   "metadata": {},
   "outputs": [],
   "source": [
    "df_cat['weight']=df_cat['weight'].str.split('lbs').str[0]"
   ]
  },
  {
   "cell_type": "code",
   "execution_count": 25,
   "id": "9eb1d2f4",
   "metadata": {},
   "outputs": [],
   "source": [
    "df_cat['weight']=df_cat['weight'].astype(int)"
   ]
  },
  {
   "cell_type": "code",
   "execution_count": 26,
   "id": "3dbba2bd",
   "metadata": {},
   "outputs": [
    {
     "data": {
      "text/plain": [
       "gender              object\n",
       "height              object\n",
       "weight               int32\n",
       "strong_foot         object\n",
       "dedication_level    object\n",
       "coaching            object\n",
       "dtype: object"
      ]
     },
     "execution_count": 26,
     "metadata": {},
     "output_type": "execute_result"
    }
   ],
   "source": [
    "df_cat.dtypes"
   ]
  },
  {
   "cell_type": "code",
   "execution_count": 27,
   "id": "aee4508d",
   "metadata": {},
   "outputs": [],
   "source": [
    "df_cat['gender']=df_cat['gender'].map({'M':0,'F':1})"
   ]
  },
  {
   "cell_type": "code",
   "execution_count": 28,
   "id": "125ccf15",
   "metadata": {},
   "outputs": [],
   "source": [
    "df_cat['strong_foot']=df_cat['strong_foot'].map({'Right':0,'Left':1,'Any':2,'None':3})"
   ]
  },
  {
   "cell_type": "code",
   "execution_count": 29,
   "id": "1e6432cd",
   "metadata": {},
   "outputs": [
    {
     "data": {
      "text/plain": [
       "array([0, 2, 1, 3], dtype=int64)"
      ]
     },
     "execution_count": 29,
     "metadata": {},
     "output_type": "execute_result"
    }
   ],
   "source": [
    "df_cat['strong_foot'].unique()"
   ]
  },
  {
   "cell_type": "code",
   "execution_count": 30,
   "id": "57c08fa5",
   "metadata": {},
   "outputs": [
    {
     "data": {
      "text/plain": [
       "array(['High', 'Medium', 'Low'], dtype=object)"
      ]
     },
     "execution_count": 30,
     "metadata": {},
     "output_type": "execute_result"
    }
   ],
   "source": [
    "df_cat['dedication_level'].unique()"
   ]
  },
  {
   "cell_type": "code",
   "execution_count": 31,
   "id": "9cc3345c",
   "metadata": {},
   "outputs": [],
   "source": [
    "df_cat['dedication_level']=df_cat['dedication_level'].map({'High':0,'Medium':1,'Low':2})"
   ]
  },
  {
   "cell_type": "code",
   "execution_count": 32,
   "id": "109d40b9",
   "metadata": {},
   "outputs": [
    {
     "data": {
      "text/plain": [
       "array([0, 1, 2], dtype=int64)"
      ]
     },
     "execution_count": 32,
     "metadata": {},
     "output_type": "execute_result"
    }
   ],
   "source": [
    "df_cat['dedication_level'].unique()"
   ]
  },
  {
   "cell_type": "code",
   "execution_count": 33,
   "id": "b916f45a",
   "metadata": {},
   "outputs": [
    {
     "data": {
      "text/plain": [
       "array(['Talent Hunt', 'Source', 'Academy', 'Unknown'], dtype=object)"
      ]
     },
     "execution_count": 33,
     "metadata": {},
     "output_type": "execute_result"
    }
   ],
   "source": [
    "df_cat['coaching'].unique()"
   ]
  },
  {
   "cell_type": "code",
   "execution_count": 34,
   "id": "72100186",
   "metadata": {},
   "outputs": [],
   "source": [
    "df_cat['coaching']=df_cat['coaching'].map({'Talent Hunt':0,'Source':1,'Academy':2,'Unknown':3})"
   ]
  },
  {
   "cell_type": "code",
   "execution_count": 35,
   "id": "cc24883a",
   "metadata": {},
   "outputs": [
    {
     "data": {
      "text/plain": [
       "array([0, 1, 2, 3], dtype=int64)"
      ]
     },
     "execution_count": 35,
     "metadata": {},
     "output_type": "execute_result"
    }
   ],
   "source": [
    "df_cat['coaching'].unique()"
   ]
  },
  {
   "cell_type": "code",
   "execution_count": null,
   "id": "b0a11eb3",
   "metadata": {},
   "outputs": [],
   "source": []
  },
  {
   "cell_type": "code",
   "execution_count": 36,
   "id": "e72707e2",
   "metadata": {},
   "outputs": [],
   "source": [
    "df_cat['height']=df_cat['height'].str[0]"
   ]
  },
  {
   "cell_type": "code",
   "execution_count": 37,
   "id": "fe887c58",
   "metadata": {},
   "outputs": [],
   "source": [
    "df_cat['height']=df_cat['height'].astype(int)"
   ]
  },
  {
   "cell_type": "code",
   "execution_count": 38,
   "id": "6ff9858b",
   "metadata": {},
   "outputs": [
    {
     "data": {
      "text/plain": [
       "gender              int64\n",
       "height              int32\n",
       "weight              int32\n",
       "strong_foot         int64\n",
       "dedication_level    int64\n",
       "coaching            int64\n",
       "dtype: object"
      ]
     },
     "execution_count": 38,
     "metadata": {},
     "output_type": "execute_result"
    }
   ],
   "source": [
    "df_cat.dtypes"
   ]
  },
  {
   "cell_type": "code",
   "execution_count": 39,
   "id": "55badd95",
   "metadata": {},
   "outputs": [],
   "source": [
    "## Now lets consider numerical column data"
   ]
  },
  {
   "cell_type": "code",
   "execution_count": 40,
   "id": "cf4f3788",
   "metadata": {},
   "outputs": [
    {
     "data": {
      "text/html": [
       "<div>\n",
       "<style scoped>\n",
       "    .dataframe tbody tr th:only-of-type {\n",
       "        vertical-align: middle;\n",
       "    }\n",
       "\n",
       "    .dataframe tbody tr th {\n",
       "        vertical-align: top;\n",
       "    }\n",
       "\n",
       "    .dataframe thead th {\n",
       "        text-align: right;\n",
       "    }\n",
       "</style>\n",
       "<table border=\"1\" class=\"dataframe\">\n",
       "  <thead>\n",
       "    <tr style=\"text-align: right;\">\n",
       "      <th></th>\n",
       "      <th>age</th>\n",
       "      <th>ball_controlling_skills</th>\n",
       "      <th>body_reflexes</th>\n",
       "      <th>body_balance</th>\n",
       "      <th>jumping_skills</th>\n",
       "      <th>penalties_conversion_rate</th>\n",
       "      <th>mental_strength</th>\n",
       "      <th>goalkeeping_skills</th>\n",
       "      <th>defending_skills</th>\n",
       "      <th>passing_skills</th>\n",
       "      <th>dribbling_skills</th>\n",
       "      <th>shot_accuracy</th>\n",
       "      <th>body_strength_stamina</th>\n",
       "      <th>max_running_speed</th>\n",
       "      <th>behaviour_rating</th>\n",
       "      <th>matches_played</th>\n",
       "      <th>fitness_rating</th>\n",
       "      <th>trophies_won</th>\n",
       "      <th>years_of_experience</th>\n",
       "      <th>no_of_disqualifications</th>\n",
       "      <th>selection</th>\n",
       "    </tr>\n",
       "  </thead>\n",
       "  <tbody>\n",
       "    <tr>\n",
       "      <th>0</th>\n",
       "      <td>23</td>\n",
       "      <td>77.0</td>\n",
       "      <td>58.0</td>\n",
       "      <td>47.0</td>\n",
       "      <td>59.0</td>\n",
       "      <td>41.0</td>\n",
       "      <td>73.0</td>\n",
       "      <td>13.0</td>\n",
       "      <td>69.0</td>\n",
       "      <td>70.0</td>\n",
       "      <td>36.0</td>\n",
       "      <td>50.0</td>\n",
       "      <td>72.0</td>\n",
       "      <td>24.4</td>\n",
       "      <td>7.7</td>\n",
       "      <td>NaN</td>\n",
       "      <td>8.1</td>\n",
       "      <td>2.0</td>\n",
       "      <td>8.0</td>\n",
       "      <td>0.0</td>\n",
       "      <td>1</td>\n",
       "    </tr>\n",
       "    <tr>\n",
       "      <th>1</th>\n",
       "      <td>18</td>\n",
       "      <td>54.0</td>\n",
       "      <td>69.0</td>\n",
       "      <td>70.0</td>\n",
       "      <td>62.0</td>\n",
       "      <td>53.0</td>\n",
       "      <td>43.0</td>\n",
       "      <td>10.0</td>\n",
       "      <td>30.0</td>\n",
       "      <td>50.0</td>\n",
       "      <td>30.0</td>\n",
       "      <td>53.0</td>\n",
       "      <td>54.0</td>\n",
       "      <td>22.6</td>\n",
       "      <td>5.3</td>\n",
       "      <td>0.0</td>\n",
       "      <td>NaN</td>\n",
       "      <td>3.0</td>\n",
       "      <td>3.0</td>\n",
       "      <td>0.0</td>\n",
       "      <td>0</td>\n",
       "    </tr>\n",
       "    <tr>\n",
       "      <th>2</th>\n",
       "      <td>16</td>\n",
       "      <td>34.0</td>\n",
       "      <td>43.0</td>\n",
       "      <td>45.0</td>\n",
       "      <td>69.0</td>\n",
       "      <td>49.0</td>\n",
       "      <td>45.0</td>\n",
       "      <td>10.0</td>\n",
       "      <td>57.0</td>\n",
       "      <td>37.0</td>\n",
       "      <td>18.0</td>\n",
       "      <td>NaN</td>\n",
       "      <td>66.0</td>\n",
       "      <td>23.2</td>\n",
       "      <td>4.7</td>\n",
       "      <td>0.0</td>\n",
       "      <td>6.6</td>\n",
       "      <td>5.0</td>\n",
       "      <td>2.0</td>\n",
       "      <td>0.0</td>\n",
       "      <td>1</td>\n",
       "    </tr>\n",
       "    <tr>\n",
       "      <th>3</th>\n",
       "      <td>27</td>\n",
       "      <td>79.0</td>\n",
       "      <td>73.0</td>\n",
       "      <td>76.0</td>\n",
       "      <td>86.0</td>\n",
       "      <td>81.0</td>\n",
       "      <td>80.0</td>\n",
       "      <td>3.0</td>\n",
       "      <td>85.0</td>\n",
       "      <td>80.0</td>\n",
       "      <td>40.0</td>\n",
       "      <td>79.0</td>\n",
       "      <td>78.0</td>\n",
       "      <td>21.2</td>\n",
       "      <td>8.6</td>\n",
       "      <td>113.0</td>\n",
       "      <td>8.6</td>\n",
       "      <td>6.0</td>\n",
       "      <td>13.0</td>\n",
       "      <td>16.0</td>\n",
       "      <td>1</td>\n",
       "    </tr>\n",
       "    <tr>\n",
       "      <th>4</th>\n",
       "      <td>19</td>\n",
       "      <td>47.0</td>\n",
       "      <td>61.0</td>\n",
       "      <td>74.0</td>\n",
       "      <td>57.0</td>\n",
       "      <td>49.0</td>\n",
       "      <td>35.0</td>\n",
       "      <td>9.0</td>\n",
       "      <td>60.0</td>\n",
       "      <td>39.0</td>\n",
       "      <td>34.0</td>\n",
       "      <td>35.0</td>\n",
       "      <td>56.0</td>\n",
       "      <td>23.4</td>\n",
       "      <td>NaN</td>\n",
       "      <td>0.0</td>\n",
       "      <td>5.7</td>\n",
       "      <td>5.0</td>\n",
       "      <td>4.0</td>\n",
       "      <td>0.0</td>\n",
       "      <td>0</td>\n",
       "    </tr>\n",
       "  </tbody>\n",
       "</table>\n",
       "</div>"
      ],
      "text/plain": [
       "   age  ball_controlling_skills  body_reflexes  body_balance  jumping_skills  \\\n",
       "0   23                     77.0           58.0          47.0            59.0   \n",
       "1   18                     54.0           69.0          70.0            62.0   \n",
       "2   16                     34.0           43.0          45.0            69.0   \n",
       "3   27                     79.0           73.0          76.0            86.0   \n",
       "4   19                     47.0           61.0          74.0            57.0   \n",
       "\n",
       "   penalties_conversion_rate  mental_strength  goalkeeping_skills  \\\n",
       "0                       41.0             73.0                13.0   \n",
       "1                       53.0             43.0                10.0   \n",
       "2                       49.0             45.0                10.0   \n",
       "3                       81.0             80.0                 3.0   \n",
       "4                       49.0             35.0                 9.0   \n",
       "\n",
       "   defending_skills  passing_skills  dribbling_skills  shot_accuracy  \\\n",
       "0              69.0            70.0              36.0           50.0   \n",
       "1              30.0            50.0              30.0           53.0   \n",
       "2              57.0            37.0              18.0            NaN   \n",
       "3              85.0            80.0              40.0           79.0   \n",
       "4              60.0            39.0              34.0           35.0   \n",
       "\n",
       "   body_strength_stamina  max_running_speed  behaviour_rating  matches_played  \\\n",
       "0                   72.0               24.4               7.7             NaN   \n",
       "1                   54.0               22.6               5.3             0.0   \n",
       "2                   66.0               23.2               4.7             0.0   \n",
       "3                   78.0               21.2               8.6           113.0   \n",
       "4                   56.0               23.4               NaN             0.0   \n",
       "\n",
       "   fitness_rating  trophies_won  years_of_experience  no_of_disqualifications  \\\n",
       "0             8.1           2.0                  8.0                      0.0   \n",
       "1             NaN           3.0                  3.0                      0.0   \n",
       "2             6.6           5.0                  2.0                      0.0   \n",
       "3             8.6           6.0                 13.0                     16.0   \n",
       "4             5.7           5.0                  4.0                      0.0   \n",
       "\n",
       "   selection  \n",
       "0          1  \n",
       "1          0  \n",
       "2          1  \n",
       "3          1  \n",
       "4          0  "
      ]
     },
     "execution_count": 40,
     "metadata": {},
     "output_type": "execute_result"
    }
   ],
   "source": [
    "df_num.head()"
   ]
  },
  {
   "cell_type": "code",
   "execution_count": 41,
   "id": "e41e0c68",
   "metadata": {},
   "outputs": [
    {
     "data": {
      "text/plain": [
       "age                            0\n",
       "ball_controlling_skills      413\n",
       "body_reflexes                  0\n",
       "body_balance                   0\n",
       "jumping_skills                24\n",
       "penalties_conversion_rate     30\n",
       "mental_strength               28\n",
       "goalkeeping_skills             0\n",
       "defending_skills               0\n",
       "passing_skills                 0\n",
       "dribbling_skills               0\n",
       "shot_accuracy                572\n",
       "body_strength_stamina          0\n",
       "max_running_speed              0\n",
       "behaviour_rating             703\n",
       "matches_played               666\n",
       "fitness_rating               695\n",
       "trophies_won                   0\n",
       "years_of_experience          144\n",
       "no_of_disqualifications        0\n",
       "selection                      0\n",
       "dtype: int64"
      ]
     },
     "execution_count": 41,
     "metadata": {},
     "output_type": "execute_result"
    }
   ],
   "source": [
    "df_num.isnull().sum()"
   ]
  },
  {
   "cell_type": "code",
   "execution_count": 42,
   "id": "d63f2762",
   "metadata": {},
   "outputs": [],
   "source": [
    "for col in df_num.columns:\n",
    "    df_num[col]=df_num[col].fillna(df_num[col].median())"
   ]
  },
  {
   "cell_type": "code",
   "execution_count": 43,
   "id": "fa2657cf",
   "metadata": {},
   "outputs": [
    {
     "data": {
      "text/html": [
       "<div>\n",
       "<style scoped>\n",
       "    .dataframe tbody tr th:only-of-type {\n",
       "        vertical-align: middle;\n",
       "    }\n",
       "\n",
       "    .dataframe tbody tr th {\n",
       "        vertical-align: top;\n",
       "    }\n",
       "\n",
       "    .dataframe thead th {\n",
       "        text-align: right;\n",
       "    }\n",
       "</style>\n",
       "<table border=\"1\" class=\"dataframe\">\n",
       "  <thead>\n",
       "    <tr style=\"text-align: right;\">\n",
       "      <th></th>\n",
       "      <th>age</th>\n",
       "      <th>ball_controlling_skills</th>\n",
       "      <th>body_reflexes</th>\n",
       "      <th>body_balance</th>\n",
       "      <th>jumping_skills</th>\n",
       "      <th>penalties_conversion_rate</th>\n",
       "      <th>mental_strength</th>\n",
       "      <th>goalkeeping_skills</th>\n",
       "      <th>defending_skills</th>\n",
       "      <th>passing_skills</th>\n",
       "      <th>dribbling_skills</th>\n",
       "      <th>shot_accuracy</th>\n",
       "      <th>body_strength_stamina</th>\n",
       "      <th>max_running_speed</th>\n",
       "      <th>behaviour_rating</th>\n",
       "      <th>matches_played</th>\n",
       "      <th>fitness_rating</th>\n",
       "      <th>trophies_won</th>\n",
       "      <th>years_of_experience</th>\n",
       "      <th>no_of_disqualifications</th>\n",
       "      <th>selection</th>\n",
       "    </tr>\n",
       "  </thead>\n",
       "  <tbody>\n",
       "    <tr>\n",
       "      <th>0</th>\n",
       "      <td>23</td>\n",
       "      <td>77.0</td>\n",
       "      <td>58.0</td>\n",
       "      <td>47.0</td>\n",
       "      <td>59.0</td>\n",
       "      <td>41.0</td>\n",
       "      <td>73.0</td>\n",
       "      <td>13.0</td>\n",
       "      <td>69.0</td>\n",
       "      <td>70.0</td>\n",
       "      <td>36.0</td>\n",
       "      <td>50.0</td>\n",
       "      <td>72.0</td>\n",
       "      <td>24.4</td>\n",
       "      <td>7.7</td>\n",
       "      <td>0.0</td>\n",
       "      <td>8.1</td>\n",
       "      <td>2.0</td>\n",
       "      <td>8.0</td>\n",
       "      <td>0.0</td>\n",
       "      <td>1</td>\n",
       "    </tr>\n",
       "    <tr>\n",
       "      <th>1</th>\n",
       "      <td>18</td>\n",
       "      <td>54.0</td>\n",
       "      <td>69.0</td>\n",
       "      <td>70.0</td>\n",
       "      <td>62.0</td>\n",
       "      <td>53.0</td>\n",
       "      <td>43.0</td>\n",
       "      <td>10.0</td>\n",
       "      <td>30.0</td>\n",
       "      <td>50.0</td>\n",
       "      <td>30.0</td>\n",
       "      <td>53.0</td>\n",
       "      <td>54.0</td>\n",
       "      <td>22.6</td>\n",
       "      <td>5.3</td>\n",
       "      <td>0.0</td>\n",
       "      <td>6.8</td>\n",
       "      <td>3.0</td>\n",
       "      <td>3.0</td>\n",
       "      <td>0.0</td>\n",
       "      <td>0</td>\n",
       "    </tr>\n",
       "    <tr>\n",
       "      <th>2</th>\n",
       "      <td>16</td>\n",
       "      <td>34.0</td>\n",
       "      <td>43.0</td>\n",
       "      <td>45.0</td>\n",
       "      <td>69.0</td>\n",
       "      <td>49.0</td>\n",
       "      <td>45.0</td>\n",
       "      <td>10.0</td>\n",
       "      <td>57.0</td>\n",
       "      <td>37.0</td>\n",
       "      <td>18.0</td>\n",
       "      <td>50.0</td>\n",
       "      <td>66.0</td>\n",
       "      <td>23.2</td>\n",
       "      <td>4.7</td>\n",
       "      <td>0.0</td>\n",
       "      <td>6.6</td>\n",
       "      <td>5.0</td>\n",
       "      <td>2.0</td>\n",
       "      <td>0.0</td>\n",
       "      <td>1</td>\n",
       "    </tr>\n",
       "    <tr>\n",
       "      <th>3</th>\n",
       "      <td>27</td>\n",
       "      <td>79.0</td>\n",
       "      <td>73.0</td>\n",
       "      <td>76.0</td>\n",
       "      <td>86.0</td>\n",
       "      <td>81.0</td>\n",
       "      <td>80.0</td>\n",
       "      <td>3.0</td>\n",
       "      <td>85.0</td>\n",
       "      <td>80.0</td>\n",
       "      <td>40.0</td>\n",
       "      <td>79.0</td>\n",
       "      <td>78.0</td>\n",
       "      <td>21.2</td>\n",
       "      <td>8.6</td>\n",
       "      <td>113.0</td>\n",
       "      <td>8.6</td>\n",
       "      <td>6.0</td>\n",
       "      <td>13.0</td>\n",
       "      <td>16.0</td>\n",
       "      <td>1</td>\n",
       "    </tr>\n",
       "    <tr>\n",
       "      <th>4</th>\n",
       "      <td>19</td>\n",
       "      <td>47.0</td>\n",
       "      <td>61.0</td>\n",
       "      <td>74.0</td>\n",
       "      <td>57.0</td>\n",
       "      <td>49.0</td>\n",
       "      <td>35.0</td>\n",
       "      <td>9.0</td>\n",
       "      <td>60.0</td>\n",
       "      <td>39.0</td>\n",
       "      <td>34.0</td>\n",
       "      <td>35.0</td>\n",
       "      <td>56.0</td>\n",
       "      <td>23.4</td>\n",
       "      <td>5.9</td>\n",
       "      <td>0.0</td>\n",
       "      <td>5.7</td>\n",
       "      <td>5.0</td>\n",
       "      <td>4.0</td>\n",
       "      <td>0.0</td>\n",
       "      <td>0</td>\n",
       "    </tr>\n",
       "  </tbody>\n",
       "</table>\n",
       "</div>"
      ],
      "text/plain": [
       "   age  ball_controlling_skills  body_reflexes  body_balance  jumping_skills  \\\n",
       "0   23                     77.0           58.0          47.0            59.0   \n",
       "1   18                     54.0           69.0          70.0            62.0   \n",
       "2   16                     34.0           43.0          45.0            69.0   \n",
       "3   27                     79.0           73.0          76.0            86.0   \n",
       "4   19                     47.0           61.0          74.0            57.0   \n",
       "\n",
       "   penalties_conversion_rate  mental_strength  goalkeeping_skills  \\\n",
       "0                       41.0             73.0                13.0   \n",
       "1                       53.0             43.0                10.0   \n",
       "2                       49.0             45.0                10.0   \n",
       "3                       81.0             80.0                 3.0   \n",
       "4                       49.0             35.0                 9.0   \n",
       "\n",
       "   defending_skills  passing_skills  dribbling_skills  shot_accuracy  \\\n",
       "0              69.0            70.0              36.0           50.0   \n",
       "1              30.0            50.0              30.0           53.0   \n",
       "2              57.0            37.0              18.0           50.0   \n",
       "3              85.0            80.0              40.0           79.0   \n",
       "4              60.0            39.0              34.0           35.0   \n",
       "\n",
       "   body_strength_stamina  max_running_speed  behaviour_rating  matches_played  \\\n",
       "0                   72.0               24.4               7.7             0.0   \n",
       "1                   54.0               22.6               5.3             0.0   \n",
       "2                   66.0               23.2               4.7             0.0   \n",
       "3                   78.0               21.2               8.6           113.0   \n",
       "4                   56.0               23.4               5.9             0.0   \n",
       "\n",
       "   fitness_rating  trophies_won  years_of_experience  no_of_disqualifications  \\\n",
       "0             8.1           2.0                  8.0                      0.0   \n",
       "1             6.8           3.0                  3.0                      0.0   \n",
       "2             6.6           5.0                  2.0                      0.0   \n",
       "3             8.6           6.0                 13.0                     16.0   \n",
       "4             5.7           5.0                  4.0                      0.0   \n",
       "\n",
       "   selection  \n",
       "0          1  \n",
       "1          0  \n",
       "2          1  \n",
       "3          1  \n",
       "4          0  "
      ]
     },
     "execution_count": 43,
     "metadata": {},
     "output_type": "execute_result"
    }
   ],
   "source": [
    "df_num.head()"
   ]
  },
  {
   "cell_type": "code",
   "execution_count": 44,
   "id": "b97e65ec",
   "metadata": {},
   "outputs": [
    {
     "data": {
      "text/plain": [
       "age                          0\n",
       "ball_controlling_skills      0\n",
       "body_reflexes                0\n",
       "body_balance                 0\n",
       "jumping_skills               0\n",
       "penalties_conversion_rate    0\n",
       "mental_strength              0\n",
       "goalkeeping_skills           0\n",
       "defending_skills             0\n",
       "passing_skills               0\n",
       "dribbling_skills             0\n",
       "shot_accuracy                0\n",
       "body_strength_stamina        0\n",
       "max_running_speed            0\n",
       "behaviour_rating             0\n",
       "matches_played               0\n",
       "fitness_rating               0\n",
       "trophies_won                 0\n",
       "years_of_experience          0\n",
       "no_of_disqualifications      0\n",
       "selection                    0\n",
       "dtype: int64"
      ]
     },
     "execution_count": 44,
     "metadata": {},
     "output_type": "execute_result"
    }
   ],
   "source": [
    "df_num.isnull().sum()"
   ]
  },
  {
   "cell_type": "code",
   "execution_count": 45,
   "id": "065ec337",
   "metadata": {},
   "outputs": [],
   "source": [
    "df_final=pd.concat([df_cat,df_num],axis=1)"
   ]
  },
  {
   "cell_type": "code",
   "execution_count": 46,
   "id": "bc2854f6",
   "metadata": {},
   "outputs": [
    {
     "data": {
      "text/plain": [
       "(13994, 27)"
      ]
     },
     "execution_count": 46,
     "metadata": {},
     "output_type": "execute_result"
    }
   ],
   "source": [
    "df_final.shape"
   ]
  },
  {
   "cell_type": "code",
   "execution_count": 47,
   "id": "22ce33a0",
   "metadata": {},
   "outputs": [
    {
     "data": {
      "text/html": [
       "<div>\n",
       "<style scoped>\n",
       "    .dataframe tbody tr th:only-of-type {\n",
       "        vertical-align: middle;\n",
       "    }\n",
       "\n",
       "    .dataframe tbody tr th {\n",
       "        vertical-align: top;\n",
       "    }\n",
       "\n",
       "    .dataframe thead th {\n",
       "        text-align: right;\n",
       "    }\n",
       "</style>\n",
       "<table border=\"1\" class=\"dataframe\">\n",
       "  <thead>\n",
       "    <tr style=\"text-align: right;\">\n",
       "      <th></th>\n",
       "      <th>gender</th>\n",
       "      <th>height</th>\n",
       "      <th>weight</th>\n",
       "      <th>strong_foot</th>\n",
       "      <th>dedication_level</th>\n",
       "      <th>coaching</th>\n",
       "      <th>age</th>\n",
       "      <th>ball_controlling_skills</th>\n",
       "      <th>body_reflexes</th>\n",
       "      <th>body_balance</th>\n",
       "      <th>jumping_skills</th>\n",
       "      <th>penalties_conversion_rate</th>\n",
       "      <th>mental_strength</th>\n",
       "      <th>goalkeeping_skills</th>\n",
       "      <th>defending_skills</th>\n",
       "      <th>passing_skills</th>\n",
       "      <th>dribbling_skills</th>\n",
       "      <th>shot_accuracy</th>\n",
       "      <th>body_strength_stamina</th>\n",
       "      <th>max_running_speed</th>\n",
       "      <th>behaviour_rating</th>\n",
       "      <th>matches_played</th>\n",
       "      <th>fitness_rating</th>\n",
       "      <th>trophies_won</th>\n",
       "      <th>years_of_experience</th>\n",
       "      <th>no_of_disqualifications</th>\n",
       "      <th>selection</th>\n",
       "    </tr>\n",
       "  </thead>\n",
       "  <tbody>\n",
       "    <tr>\n",
       "      <th>0</th>\n",
       "      <td>0</td>\n",
       "      <td>6</td>\n",
       "      <td>176</td>\n",
       "      <td>0</td>\n",
       "      <td>0</td>\n",
       "      <td>0</td>\n",
       "      <td>23</td>\n",
       "      <td>77.0</td>\n",
       "      <td>58.0</td>\n",
       "      <td>47.0</td>\n",
       "      <td>59.0</td>\n",
       "      <td>41.0</td>\n",
       "      <td>73.0</td>\n",
       "      <td>13.0</td>\n",
       "      <td>69.0</td>\n",
       "      <td>70.0</td>\n",
       "      <td>36.0</td>\n",
       "      <td>50.0</td>\n",
       "      <td>72.0</td>\n",
       "      <td>24.4</td>\n",
       "      <td>7.7</td>\n",
       "      <td>0.0</td>\n",
       "      <td>8.1</td>\n",
       "      <td>2.0</td>\n",
       "      <td>8.0</td>\n",
       "      <td>0.0</td>\n",
       "      <td>1</td>\n",
       "    </tr>\n",
       "    <tr>\n",
       "      <th>1</th>\n",
       "      <td>0</td>\n",
       "      <td>5</td>\n",
       "      <td>148</td>\n",
       "      <td>2</td>\n",
       "      <td>1</td>\n",
       "      <td>1</td>\n",
       "      <td>18</td>\n",
       "      <td>54.0</td>\n",
       "      <td>69.0</td>\n",
       "      <td>70.0</td>\n",
       "      <td>62.0</td>\n",
       "      <td>53.0</td>\n",
       "      <td>43.0</td>\n",
       "      <td>10.0</td>\n",
       "      <td>30.0</td>\n",
       "      <td>50.0</td>\n",
       "      <td>30.0</td>\n",
       "      <td>53.0</td>\n",
       "      <td>54.0</td>\n",
       "      <td>22.6</td>\n",
       "      <td>5.3</td>\n",
       "      <td>0.0</td>\n",
       "      <td>6.8</td>\n",
       "      <td>3.0</td>\n",
       "      <td>3.0</td>\n",
       "      <td>0.0</td>\n",
       "      <td>0</td>\n",
       "    </tr>\n",
       "    <tr>\n",
       "      <th>2</th>\n",
       "      <td>1</td>\n",
       "      <td>6</td>\n",
       "      <td>172</td>\n",
       "      <td>1</td>\n",
       "      <td>2</td>\n",
       "      <td>2</td>\n",
       "      <td>16</td>\n",
       "      <td>34.0</td>\n",
       "      <td>43.0</td>\n",
       "      <td>45.0</td>\n",
       "      <td>69.0</td>\n",
       "      <td>49.0</td>\n",
       "      <td>45.0</td>\n",
       "      <td>10.0</td>\n",
       "      <td>57.0</td>\n",
       "      <td>37.0</td>\n",
       "      <td>18.0</td>\n",
       "      <td>50.0</td>\n",
       "      <td>66.0</td>\n",
       "      <td>23.2</td>\n",
       "      <td>4.7</td>\n",
       "      <td>0.0</td>\n",
       "      <td>6.6</td>\n",
       "      <td>5.0</td>\n",
       "      <td>2.0</td>\n",
       "      <td>0.0</td>\n",
       "      <td>1</td>\n",
       "    </tr>\n",
       "    <tr>\n",
       "      <th>3</th>\n",
       "      <td>0</td>\n",
       "      <td>5</td>\n",
       "      <td>165</td>\n",
       "      <td>0</td>\n",
       "      <td>1</td>\n",
       "      <td>2</td>\n",
       "      <td>27</td>\n",
       "      <td>79.0</td>\n",
       "      <td>73.0</td>\n",
       "      <td>76.0</td>\n",
       "      <td>86.0</td>\n",
       "      <td>81.0</td>\n",
       "      <td>80.0</td>\n",
       "      <td>3.0</td>\n",
       "      <td>85.0</td>\n",
       "      <td>80.0</td>\n",
       "      <td>40.0</td>\n",
       "      <td>79.0</td>\n",
       "      <td>78.0</td>\n",
       "      <td>21.2</td>\n",
       "      <td>8.6</td>\n",
       "      <td>113.0</td>\n",
       "      <td>8.6</td>\n",
       "      <td>6.0</td>\n",
       "      <td>13.0</td>\n",
       "      <td>16.0</td>\n",
       "      <td>1</td>\n",
       "    </tr>\n",
       "    <tr>\n",
       "      <th>4</th>\n",
       "      <td>1</td>\n",
       "      <td>5</td>\n",
       "      <td>158</td>\n",
       "      <td>0</td>\n",
       "      <td>1</td>\n",
       "      <td>2</td>\n",
       "      <td>19</td>\n",
       "      <td>47.0</td>\n",
       "      <td>61.0</td>\n",
       "      <td>74.0</td>\n",
       "      <td>57.0</td>\n",
       "      <td>49.0</td>\n",
       "      <td>35.0</td>\n",
       "      <td>9.0</td>\n",
       "      <td>60.0</td>\n",
       "      <td>39.0</td>\n",
       "      <td>34.0</td>\n",
       "      <td>35.0</td>\n",
       "      <td>56.0</td>\n",
       "      <td>23.4</td>\n",
       "      <td>5.9</td>\n",
       "      <td>0.0</td>\n",
       "      <td>5.7</td>\n",
       "      <td>5.0</td>\n",
       "      <td>4.0</td>\n",
       "      <td>0.0</td>\n",
       "      <td>0</td>\n",
       "    </tr>\n",
       "  </tbody>\n",
       "</table>\n",
       "</div>"
      ],
      "text/plain": [
       "   gender  height  weight  strong_foot  dedication_level  coaching  age  \\\n",
       "0       0       6     176            0                 0         0   23   \n",
       "1       0       5     148            2                 1         1   18   \n",
       "2       1       6     172            1                 2         2   16   \n",
       "3       0       5     165            0                 1         2   27   \n",
       "4       1       5     158            0                 1         2   19   \n",
       "\n",
       "   ball_controlling_skills  body_reflexes  body_balance  jumping_skills  \\\n",
       "0                     77.0           58.0          47.0            59.0   \n",
       "1                     54.0           69.0          70.0            62.0   \n",
       "2                     34.0           43.0          45.0            69.0   \n",
       "3                     79.0           73.0          76.0            86.0   \n",
       "4                     47.0           61.0          74.0            57.0   \n",
       "\n",
       "   penalties_conversion_rate  mental_strength  goalkeeping_skills  \\\n",
       "0                       41.0             73.0                13.0   \n",
       "1                       53.0             43.0                10.0   \n",
       "2                       49.0             45.0                10.0   \n",
       "3                       81.0             80.0                 3.0   \n",
       "4                       49.0             35.0                 9.0   \n",
       "\n",
       "   defending_skills  passing_skills  dribbling_skills  shot_accuracy  \\\n",
       "0              69.0            70.0              36.0           50.0   \n",
       "1              30.0            50.0              30.0           53.0   \n",
       "2              57.0            37.0              18.0           50.0   \n",
       "3              85.0            80.0              40.0           79.0   \n",
       "4              60.0            39.0              34.0           35.0   \n",
       "\n",
       "   body_strength_stamina  max_running_speed  behaviour_rating  matches_played  \\\n",
       "0                   72.0               24.4               7.7             0.0   \n",
       "1                   54.0               22.6               5.3             0.0   \n",
       "2                   66.0               23.2               4.7             0.0   \n",
       "3                   78.0               21.2               8.6           113.0   \n",
       "4                   56.0               23.4               5.9             0.0   \n",
       "\n",
       "   fitness_rating  trophies_won  years_of_experience  no_of_disqualifications  \\\n",
       "0             8.1           2.0                  8.0                      0.0   \n",
       "1             6.8           3.0                  3.0                      0.0   \n",
       "2             6.6           5.0                  2.0                      0.0   \n",
       "3             8.6           6.0                 13.0                     16.0   \n",
       "4             5.7           5.0                  4.0                      0.0   \n",
       "\n",
       "   selection  \n",
       "0          1  \n",
       "1          0  \n",
       "2          1  \n",
       "3          1  \n",
       "4          0  "
      ]
     },
     "execution_count": 47,
     "metadata": {},
     "output_type": "execute_result"
    }
   ],
   "source": [
    "df_final.head()"
   ]
  },
  {
   "cell_type": "code",
   "execution_count": 48,
   "id": "c482cc6f",
   "metadata": {},
   "outputs": [],
   "source": [
    "## Distributing train test "
   ]
  },
  {
   "cell_type": "code",
   "execution_count": 49,
   "id": "ae89b88c",
   "metadata": {},
   "outputs": [],
   "source": [
    "X=df_final.drop('selection',axis=1)"
   ]
  },
  {
   "cell_type": "code",
   "execution_count": 50,
   "id": "57783157",
   "metadata": {},
   "outputs": [],
   "source": [
    "y=df_final['selection']"
   ]
  },
  {
   "cell_type": "code",
   "execution_count": 51,
   "id": "f9473c7e",
   "metadata": {},
   "outputs": [],
   "source": [
    "from sklearn.model_selection import train_test_split\n",
    "from sklearn.metrics import accuracy_score,confusion_matrix,classification_report"
   ]
  },
  {
   "cell_type": "code",
   "execution_count": 52,
   "id": "4300436c",
   "metadata": {},
   "outputs": [],
   "source": [
    "from sklearn.tree import DecisionTreeClassifier"
   ]
  },
  {
   "cell_type": "code",
   "execution_count": 53,
   "id": "d23799aa",
   "metadata": {},
   "outputs": [],
   "source": [
    "from sklearn.ensemble import RandomForestClassifier,AdaBoostClassifier"
   ]
  },
  {
   "cell_type": "code",
   "execution_count": 54,
   "id": "4fc74c85",
   "metadata": {},
   "outputs": [],
   "source": [
    "X_train,X_test,y_train,y_test=train_test_split(X,y,random_state=42)"
   ]
  },
  {
   "cell_type": "code",
   "execution_count": 55,
   "id": "65ecd6b2",
   "metadata": {},
   "outputs": [
    {
     "data": {
      "text/plain": [
       "1    5914\n",
       "0    4581\n",
       "Name: selection, dtype: int64"
      ]
     },
     "execution_count": 55,
     "metadata": {},
     "output_type": "execute_result"
    }
   ],
   "source": [
    "y_train.value_counts()"
   ]
  },
  {
   "cell_type": "code",
   "execution_count": 56,
   "id": "89b3cdaf",
   "metadata": {},
   "outputs": [
    {
     "data": {
      "text/plain": [
       "(10495, 26)"
      ]
     },
     "execution_count": 56,
     "metadata": {},
     "output_type": "execute_result"
    }
   ],
   "source": [
    "X_train.shape"
   ]
  },
  {
   "cell_type": "code",
   "execution_count": 57,
   "id": "13453e08",
   "metadata": {},
   "outputs": [
    {
     "data": {
      "text/plain": [
       "(10495,)"
      ]
     },
     "execution_count": 57,
     "metadata": {},
     "output_type": "execute_result"
    }
   ],
   "source": [
    "y_train.shape"
   ]
  },
  {
   "cell_type": "code",
   "execution_count": 58,
   "id": "b6b5d3b1",
   "metadata": {},
   "outputs": [
    {
     "name": "stdout",
     "output_type": "stream",
     "text": [
      "0.7922263503858246\n"
     ]
    }
   ],
   "source": [
    "dt=DecisionTreeClassifier()\n",
    "dt.fit(X_train,y_train)\n",
    "y_pred=dt.predict(X_test)\n",
    "print(accuracy_score(y_test,y_pred))"
   ]
  },
  {
   "cell_type": "code",
   "execution_count": 59,
   "id": "29d20670",
   "metadata": {},
   "outputs": [
    {
     "name": "stdout",
     "output_type": "stream",
     "text": [
      "0.852529294084024\n"
     ]
    }
   ],
   "source": [
    "RF=RandomForestClassifier()\n",
    "RF.fit(X_train,y_train)\n",
    "y_pred=RF.predict(X_test)\n",
    "print(accuracy_score(y_test,y_pred))"
   ]
  },
  {
   "cell_type": "code",
   "execution_count": 60,
   "id": "eaf7219d",
   "metadata": {},
   "outputs": [
    {
     "name": "stdout",
     "output_type": "stream",
     "text": [
      "[[1326  285]\n",
      " [ 231 1657]]\n"
     ]
    }
   ],
   "source": [
    "print(confusion_matrix(y_test,y_pred))"
   ]
  },
  {
   "cell_type": "code",
   "execution_count": 61,
   "id": "56c985da",
   "metadata": {},
   "outputs": [
    {
     "name": "stdout",
     "output_type": "stream",
     "text": [
      "              precision    recall  f1-score   support\n",
      "\n",
      "           0       0.85      0.82      0.84      1611\n",
      "           1       0.85      0.88      0.87      1888\n",
      "\n",
      "    accuracy                           0.85      3499\n",
      "   macro avg       0.85      0.85      0.85      3499\n",
      "weighted avg       0.85      0.85      0.85      3499\n",
      "\n"
     ]
    }
   ],
   "source": [
    "print(classification_report(y_test,y_pred))"
   ]
  },
  {
   "cell_type": "code",
   "execution_count": 62,
   "id": "da3596ae",
   "metadata": {},
   "outputs": [
    {
     "name": "stdout",
     "output_type": "stream",
     "text": [
      "0.8270934552729351\n"
     ]
    }
   ],
   "source": [
    "ADB=AdaBoostClassifier()\n",
    "ADB.fit(X_train,y_train)\n",
    "y_pred=ADB.predict(X_test)\n",
    "print(accuracy_score(y_test,y_pred))"
   ]
  },
  {
   "cell_type": "code",
   "execution_count": 63,
   "id": "b75b0204",
   "metadata": {},
   "outputs": [],
   "source": [
    "# From above I will select Random Forest Clasifier"
   ]
  },
  {
   "cell_type": "code",
   "execution_count": 64,
   "id": "967e0631",
   "metadata": {},
   "outputs": [],
   "source": [
    "import pickle"
   ]
  },
  {
   "cell_type": "code",
   "execution_count": 65,
   "id": "21640564",
   "metadata": {},
   "outputs": [],
   "source": [
    "with open('model.pkl','wb')as f:\n",
    "    pickle.dump(RF,f)"
   ]
  },
  {
   "cell_type": "code",
   "execution_count": 66,
   "id": "f6ad5abc",
   "metadata": {},
   "outputs": [],
   "source": [
    "test_df=pd.read_csv('test.csv')"
   ]
  },
  {
   "cell_type": "code",
   "execution_count": 67,
   "id": "53a30ad3",
   "metadata": {},
   "outputs": [
    {
     "data": {
      "text/html": [
       "<div>\n",
       "<style scoped>\n",
       "    .dataframe tbody tr th:only-of-type {\n",
       "        vertical-align: middle;\n",
       "    }\n",
       "\n",
       "    .dataframe tbody tr th {\n",
       "        vertical-align: top;\n",
       "    }\n",
       "\n",
       "    .dataframe thead th {\n",
       "        text-align: right;\n",
       "    }\n",
       "</style>\n",
       "<table border=\"1\" class=\"dataframe\">\n",
       "  <thead>\n",
       "    <tr style=\"text-align: right;\">\n",
       "      <th></th>\n",
       "      <th>player_id</th>\n",
       "      <th>name</th>\n",
       "      <th>age</th>\n",
       "      <th>gender</th>\n",
       "      <th>country</th>\n",
       "      <th>height</th>\n",
       "      <th>weight</th>\n",
       "      <th>ball_controlling_skills</th>\n",
       "      <th>body_reflexes</th>\n",
       "      <th>body_balance</th>\n",
       "      <th>jumping_skills</th>\n",
       "      <th>penalties_conversion_rate</th>\n",
       "      <th>mental_strength</th>\n",
       "      <th>goalkeeping_skills</th>\n",
       "      <th>defending_skills</th>\n",
       "      <th>passing_skills</th>\n",
       "      <th>dribbling_skills</th>\n",
       "      <th>shot_accuracy</th>\n",
       "      <th>body_strength_stamina</th>\n",
       "      <th>max_running_speed</th>\n",
       "      <th>strong_foot</th>\n",
       "      <th>behaviour_rating</th>\n",
       "      <th>matches_played</th>\n",
       "      <th>fitness_rating</th>\n",
       "      <th>trophies_won</th>\n",
       "      <th>dedication_level</th>\n",
       "      <th>coaching</th>\n",
       "      <th>years_of_experience</th>\n",
       "      <th>no_of_disqualifications</th>\n",
       "    </tr>\n",
       "  </thead>\n",
       "  <tbody>\n",
       "    <tr>\n",
       "      <th>0</th>\n",
       "      <td>PLID_14644</td>\n",
       "      <td>Ha Matta</td>\n",
       "      <td>16</td>\n",
       "      <td>F</td>\n",
       "      <td>Austria</td>\n",
       "      <td>6'1</td>\n",
       "      <td>163lbs</td>\n",
       "      <td>68.0</td>\n",
       "      <td>68.0</td>\n",
       "      <td>54.0</td>\n",
       "      <td>67.0</td>\n",
       "      <td>42.0</td>\n",
       "      <td>55.0</td>\n",
       "      <td>10.0</td>\n",
       "      <td>63.0</td>\n",
       "      <td>64.0</td>\n",
       "      <td>34.0</td>\n",
       "      <td>57.0</td>\n",
       "      <td>71.0</td>\n",
       "      <td>25.6</td>\n",
       "      <td>Right</td>\n",
       "      <td>6.5</td>\n",
       "      <td>0.0</td>\n",
       "      <td>7.7</td>\n",
       "      <td>3.0</td>\n",
       "      <td>Medium</td>\n",
       "      <td>Unknown</td>\n",
       "      <td>1.0</td>\n",
       "      <td>0.0</td>\n",
       "    </tr>\n",
       "    <tr>\n",
       "      <th>1</th>\n",
       "      <td>PLID_5934</td>\n",
       "      <td>Rex Weinstock</td>\n",
       "      <td>23</td>\n",
       "      <td>F</td>\n",
       "      <td>South Africa</td>\n",
       "      <td>5'9</td>\n",
       "      <td>170lbs</td>\n",
       "      <td>65.0</td>\n",
       "      <td>73.0</td>\n",
       "      <td>78.0</td>\n",
       "      <td>92.0</td>\n",
       "      <td>49.0</td>\n",
       "      <td>50.0</td>\n",
       "      <td>9.0</td>\n",
       "      <td>56.0</td>\n",
       "      <td>46.0</td>\n",
       "      <td>34.0</td>\n",
       "      <td>35.0</td>\n",
       "      <td>64.0</td>\n",
       "      <td>27.6</td>\n",
       "      <td>Right</td>\n",
       "      <td>5.1</td>\n",
       "      <td>1.0</td>\n",
       "      <td>6.1</td>\n",
       "      <td>3.0</td>\n",
       "      <td>Medium</td>\n",
       "      <td>Academy</td>\n",
       "      <td>9.0</td>\n",
       "      <td>0.0</td>\n",
       "    </tr>\n",
       "    <tr>\n",
       "      <th>2</th>\n",
       "      <td>PLID_5074</td>\n",
       "      <td>Raisa Angeles</td>\n",
       "      <td>18</td>\n",
       "      <td>F</td>\n",
       "      <td>Netherlands</td>\n",
       "      <td>5'10</td>\n",
       "      <td>154lbs</td>\n",
       "      <td>72.0</td>\n",
       "      <td>79.0</td>\n",
       "      <td>64.0</td>\n",
       "      <td>37.0</td>\n",
       "      <td>64.0</td>\n",
       "      <td>64.0</td>\n",
       "      <td>12.0</td>\n",
       "      <td>42.0</td>\n",
       "      <td>62.0</td>\n",
       "      <td>38.0</td>\n",
       "      <td>61.0</td>\n",
       "      <td>70.0</td>\n",
       "      <td>29.4</td>\n",
       "      <td>Left</td>\n",
       "      <td>5.8</td>\n",
       "      <td>0.0</td>\n",
       "      <td>8.4</td>\n",
       "      <td>2.0</td>\n",
       "      <td>Medium</td>\n",
       "      <td>Academy</td>\n",
       "      <td>3.0</td>\n",
       "      <td>0.0</td>\n",
       "    </tr>\n",
       "    <tr>\n",
       "      <th>3</th>\n",
       "      <td>PLID_17357</td>\n",
       "      <td>Jong Flewelling</td>\n",
       "      <td>24</td>\n",
       "      <td>F</td>\n",
       "      <td>China PR</td>\n",
       "      <td>6'0</td>\n",
       "      <td>168lbs</td>\n",
       "      <td>64.0</td>\n",
       "      <td>76.0</td>\n",
       "      <td>65.0</td>\n",
       "      <td>65.0</td>\n",
       "      <td>39.0</td>\n",
       "      <td>38.0</td>\n",
       "      <td>10.0</td>\n",
       "      <td>57.0</td>\n",
       "      <td>56.0</td>\n",
       "      <td>32.0</td>\n",
       "      <td>39.0</td>\n",
       "      <td>60.0</td>\n",
       "      <td>23.0</td>\n",
       "      <td>Right</td>\n",
       "      <td>5.2</td>\n",
       "      <td>0.0</td>\n",
       "      <td>6.2</td>\n",
       "      <td>6.0</td>\n",
       "      <td>High</td>\n",
       "      <td>Academy</td>\n",
       "      <td>10.0</td>\n",
       "      <td>0.0</td>\n",
       "    </tr>\n",
       "    <tr>\n",
       "      <th>4</th>\n",
       "      <td>PLID_13993</td>\n",
       "      <td>Dian Westmoreland</td>\n",
       "      <td>20</td>\n",
       "      <td>F</td>\n",
       "      <td>Australia</td>\n",
       "      <td>6'0</td>\n",
       "      <td>163lbs</td>\n",
       "      <td>53.0</td>\n",
       "      <td>58.0</td>\n",
       "      <td>57.0</td>\n",
       "      <td>66.0</td>\n",
       "      <td>36.0</td>\n",
       "      <td>59.0</td>\n",
       "      <td>11.0</td>\n",
       "      <td>61.0</td>\n",
       "      <td>52.0</td>\n",
       "      <td>26.0</td>\n",
       "      <td>39.0</td>\n",
       "      <td>66.0</td>\n",
       "      <td>23.2</td>\n",
       "      <td>Right</td>\n",
       "      <td>4.7</td>\n",
       "      <td>0.0</td>\n",
       "      <td>6.9</td>\n",
       "      <td>3.0</td>\n",
       "      <td>Medium</td>\n",
       "      <td>Talent Hunt</td>\n",
       "      <td>5.0</td>\n",
       "      <td>0.0</td>\n",
       "    </tr>\n",
       "  </tbody>\n",
       "</table>\n",
       "</div>"
      ],
      "text/plain": [
       "    player_id               name  age gender       country height  weight  \\\n",
       "0  PLID_14644           Ha Matta   16      F       Austria    6'1  163lbs   \n",
       "1   PLID_5934      Rex Weinstock   23      F  South Africa    5'9  170lbs   \n",
       "2   PLID_5074      Raisa Angeles   18      F   Netherlands   5'10  154lbs   \n",
       "3  PLID_17357    Jong Flewelling   24      F      China PR    6'0  168lbs   \n",
       "4  PLID_13993  Dian Westmoreland   20      F     Australia    6'0  163lbs   \n",
       "\n",
       "   ball_controlling_skills  body_reflexes  body_balance  jumping_skills  \\\n",
       "0                     68.0           68.0          54.0            67.0   \n",
       "1                     65.0           73.0          78.0            92.0   \n",
       "2                     72.0           79.0          64.0            37.0   \n",
       "3                     64.0           76.0          65.0            65.0   \n",
       "4                     53.0           58.0          57.0            66.0   \n",
       "\n",
       "   penalties_conversion_rate  mental_strength  goalkeeping_skills  \\\n",
       "0                       42.0             55.0                10.0   \n",
       "1                       49.0             50.0                 9.0   \n",
       "2                       64.0             64.0                12.0   \n",
       "3                       39.0             38.0                10.0   \n",
       "4                       36.0             59.0                11.0   \n",
       "\n",
       "   defending_skills  passing_skills  dribbling_skills  shot_accuracy  \\\n",
       "0              63.0            64.0              34.0           57.0   \n",
       "1              56.0            46.0              34.0           35.0   \n",
       "2              42.0            62.0              38.0           61.0   \n",
       "3              57.0            56.0              32.0           39.0   \n",
       "4              61.0            52.0              26.0           39.0   \n",
       "\n",
       "   body_strength_stamina  max_running_speed strong_foot  behaviour_rating  \\\n",
       "0                   71.0               25.6       Right               6.5   \n",
       "1                   64.0               27.6       Right               5.1   \n",
       "2                   70.0               29.4        Left               5.8   \n",
       "3                   60.0               23.0       Right               5.2   \n",
       "4                   66.0               23.2       Right               4.7   \n",
       "\n",
       "   matches_played  fitness_rating  trophies_won dedication_level     coaching  \\\n",
       "0             0.0             7.7           3.0           Medium      Unknown   \n",
       "1             1.0             6.1           3.0           Medium      Academy   \n",
       "2             0.0             8.4           2.0           Medium      Academy   \n",
       "3             0.0             6.2           6.0             High      Academy   \n",
       "4             0.0             6.9           3.0           Medium  Talent Hunt   \n",
       "\n",
       "   years_of_experience  no_of_disqualifications  \n",
       "0                  1.0                      0.0  \n",
       "1                  9.0                      0.0  \n",
       "2                  3.0                      0.0  \n",
       "3                 10.0                      0.0  \n",
       "4                  5.0                      0.0  "
      ]
     },
     "execution_count": 67,
     "metadata": {},
     "output_type": "execute_result"
    }
   ],
   "source": [
    "test_df.head()"
   ]
  },
  {
   "cell_type": "code",
   "execution_count": 68,
   "id": "315376fa",
   "metadata": {},
   "outputs": [
    {
     "data": {
      "text/plain": [
       "player_id                      0\n",
       "name                           0\n",
       "age                            0\n",
       "gender                        20\n",
       "country                        0\n",
       "height                         0\n",
       "weight                       271\n",
       "ball_controlling_skills      270\n",
       "body_reflexes                  0\n",
       "body_balance                   0\n",
       "jumping_skills                22\n",
       "penalties_conversion_rate     16\n",
       "mental_strength               18\n",
       "goalkeeping_skills             0\n",
       "defending_skills               0\n",
       "passing_skills                 0\n",
       "dribbling_skills               0\n",
       "shot_accuracy                342\n",
       "body_strength_stamina          0\n",
       "max_running_speed              0\n",
       "strong_foot                  378\n",
       "behaviour_rating             442\n",
       "matches_played               471\n",
       "fitness_rating               438\n",
       "trophies_won                   0\n",
       "dedication_level               0\n",
       "coaching                      87\n",
       "years_of_experience           89\n",
       "no_of_disqualifications        0\n",
       "dtype: int64"
      ]
     },
     "execution_count": 68,
     "metadata": {},
     "output_type": "execute_result"
    }
   ],
   "source": [
    "test_df.isnull().sum()"
   ]
  },
  {
   "cell_type": "code",
   "execution_count": 69,
   "id": "b33ad101",
   "metadata": {},
   "outputs": [],
   "source": [
    "test_df['gender']=test_df['gender'].fillna(test_df['gender'].mode()[0])"
   ]
  },
  {
   "cell_type": "code",
   "execution_count": 70,
   "id": "80805882",
   "metadata": {},
   "outputs": [],
   "source": [
    "test_df['weight']=test_df['weight'].fillna(test_df['weight'].mode()[0])"
   ]
  },
  {
   "cell_type": "code",
   "execution_count": 71,
   "id": "54688f93",
   "metadata": {},
   "outputs": [],
   "source": [
    "test_df['strong_foot']=test_df['strong_foot'].fillna(test_df['strong_foot'].mode()[0])"
   ]
  },
  {
   "cell_type": "code",
   "execution_count": 72,
   "id": "ac256525",
   "metadata": {},
   "outputs": [],
   "source": [
    "test_df['coaching']=test_df['coaching'].fillna(test_df['coaching'].mode()[0])"
   ]
  },
  {
   "cell_type": "code",
   "execution_count": 73,
   "id": "e3c60e2e",
   "metadata": {},
   "outputs": [],
   "source": [
    "test_df['weight']=test_df['weight'].str.split('lbs').str[0]"
   ]
  },
  {
   "cell_type": "code",
   "execution_count": 74,
   "id": "4dcac482",
   "metadata": {},
   "outputs": [],
   "source": [
    "test_df['weight']=test_df['weight'].astype(int)"
   ]
  },
  {
   "cell_type": "code",
   "execution_count": 75,
   "id": "9e79d6d7",
   "metadata": {},
   "outputs": [],
   "source": [
    "test_df['gender']=test_df['gender'].map({'M':0,'F':1})"
   ]
  },
  {
   "cell_type": "code",
   "execution_count": 76,
   "id": "bd7e46f2",
   "metadata": {},
   "outputs": [],
   "source": [
    "test_df['strong_foot']=test_df['strong_foot'].map({'Right':0,'Left':1,'Any':2,'None':3})"
   ]
  },
  {
   "cell_type": "code",
   "execution_count": 77,
   "id": "226615e9",
   "metadata": {},
   "outputs": [],
   "source": [
    "test_df['dedication_level']=test_df['dedication_level'].map({'High':0,'Medium':1,'Low':2})"
   ]
  },
  {
   "cell_type": "code",
   "execution_count": 78,
   "id": "817adaea",
   "metadata": {},
   "outputs": [],
   "source": [
    "test_df['coaching']=test_df['coaching'].map({'Talent Hunt':0,'Source':1,'Academy':2,'Unknown':3})"
   ]
  },
  {
   "cell_type": "code",
   "execution_count": 79,
   "id": "69d7019d",
   "metadata": {},
   "outputs": [],
   "source": [
    "test_df['height']=test_df['height'].str[0]"
   ]
  },
  {
   "cell_type": "code",
   "execution_count": 80,
   "id": "74419fdf",
   "metadata": {},
   "outputs": [],
   "source": [
    "test_df['height']=test_df['height'].astype(int)"
   ]
  },
  {
   "cell_type": "code",
   "execution_count": 82,
   "id": "b7e028e2",
   "metadata": {},
   "outputs": [],
   "source": [
    "test_df1=test_df.copy()"
   ]
  },
  {
   "cell_type": "code",
   "execution_count": 83,
   "id": "3c5d8f2d",
   "metadata": {},
   "outputs": [],
   "source": [
    "test_df1=test_df1.drop(['player_id','name','country'],axis=1)"
   ]
  },
  {
   "cell_type": "code",
   "execution_count": 92,
   "id": "77c728ff",
   "metadata": {},
   "outputs": [],
   "source": [
    "columns1=list(df_num.columns)"
   ]
  },
  {
   "cell_type": "code",
   "execution_count": 96,
   "id": "3273086c",
   "metadata": {},
   "outputs": [],
   "source": [
    "columns1=columns1[:-1]"
   ]
  },
  {
   "cell_type": "code",
   "execution_count": 97,
   "id": "84a8cca7",
   "metadata": {},
   "outputs": [],
   "source": [
    "for col in columns1:\n",
    "    test_df1[col]=test_df1[col].fillna(test_df1[col].median())"
   ]
  },
  {
   "cell_type": "code",
   "execution_count": 98,
   "id": "f56ae71d",
   "metadata": {},
   "outputs": [
    {
     "data": {
      "text/plain": [
       "(9330, 26)"
      ]
     },
     "execution_count": 98,
     "metadata": {},
     "output_type": "execute_result"
    }
   ],
   "source": [
    "test_df1.shape"
   ]
  },
  {
   "cell_type": "code",
   "execution_count": 102,
   "id": "14c02953",
   "metadata": {},
   "outputs": [],
   "source": [
    "y_pred_test=RF.predict(test_df1)"
   ]
  },
  {
   "cell_type": "code",
   "execution_count": 113,
   "id": "47451dd8",
   "metadata": {},
   "outputs": [
    {
     "data": {
      "text/plain": [
       "array([1, 0, 1, ..., 0, 0, 0], dtype=int64)"
      ]
     },
     "execution_count": 113,
     "metadata": {},
     "output_type": "execute_result"
    }
   ],
   "source": [
    "y_pred_test"
   ]
  },
  {
   "cell_type": "code",
   "execution_count": null,
   "id": "3509b161",
   "metadata": {},
   "outputs": [],
   "source": [
    "y"
   ]
  },
  {
   "cell_type": "code",
   "execution_count": 114,
   "id": "c24f8b41",
   "metadata": {},
   "outputs": [],
   "source": [
    "output=pd.DataFrame({'player_id':test_df['player_id'],'selection':y_pred_test})"
   ]
  },
  {
   "cell_type": "code",
   "execution_count": 115,
   "id": "5d692c53",
   "metadata": {},
   "outputs": [
    {
     "data": {
      "text/html": [
       "<div>\n",
       "<style scoped>\n",
       "    .dataframe tbody tr th:only-of-type {\n",
       "        vertical-align: middle;\n",
       "    }\n",
       "\n",
       "    .dataframe tbody tr th {\n",
       "        vertical-align: top;\n",
       "    }\n",
       "\n",
       "    .dataframe thead th {\n",
       "        text-align: right;\n",
       "    }\n",
       "</style>\n",
       "<table border=\"1\" class=\"dataframe\">\n",
       "  <thead>\n",
       "    <tr style=\"text-align: right;\">\n",
       "      <th></th>\n",
       "      <th>player_id</th>\n",
       "      <th>selection</th>\n",
       "    </tr>\n",
       "  </thead>\n",
       "  <tbody>\n",
       "    <tr>\n",
       "      <th>0</th>\n",
       "      <td>PLID_14644</td>\n",
       "      <td>1</td>\n",
       "    </tr>\n",
       "    <tr>\n",
       "      <th>1</th>\n",
       "      <td>PLID_5934</td>\n",
       "      <td>0</td>\n",
       "    </tr>\n",
       "    <tr>\n",
       "      <th>2</th>\n",
       "      <td>PLID_5074</td>\n",
       "      <td>1</td>\n",
       "    </tr>\n",
       "    <tr>\n",
       "      <th>3</th>\n",
       "      <td>PLID_17357</td>\n",
       "      <td>0</td>\n",
       "    </tr>\n",
       "    <tr>\n",
       "      <th>4</th>\n",
       "      <td>PLID_13993</td>\n",
       "      <td>0</td>\n",
       "    </tr>\n",
       "    <tr>\n",
       "      <th>...</th>\n",
       "      <td>...</td>\n",
       "      <td>...</td>\n",
       "    </tr>\n",
       "    <tr>\n",
       "      <th>9325</th>\n",
       "      <td>PLID_7718</td>\n",
       "      <td>0</td>\n",
       "    </tr>\n",
       "    <tr>\n",
       "      <th>9326</th>\n",
       "      <td>PLID_1563</td>\n",
       "      <td>0</td>\n",
       "    </tr>\n",
       "    <tr>\n",
       "      <th>9327</th>\n",
       "      <td>PLID_6017</td>\n",
       "      <td>0</td>\n",
       "    </tr>\n",
       "    <tr>\n",
       "      <th>9328</th>\n",
       "      <td>PLID_9370</td>\n",
       "      <td>0</td>\n",
       "    </tr>\n",
       "    <tr>\n",
       "      <th>9329</th>\n",
       "      <td>PLID_10126</td>\n",
       "      <td>0</td>\n",
       "    </tr>\n",
       "  </tbody>\n",
       "</table>\n",
       "<p>9330 rows × 2 columns</p>\n",
       "</div>"
      ],
      "text/plain": [
       "       player_id  selection\n",
       "0     PLID_14644          1\n",
       "1      PLID_5934          0\n",
       "2      PLID_5074          1\n",
       "3     PLID_17357          0\n",
       "4     PLID_13993          0\n",
       "...          ...        ...\n",
       "9325   PLID_7718          0\n",
       "9326   PLID_1563          0\n",
       "9327   PLID_6017          0\n",
       "9328   PLID_9370          0\n",
       "9329  PLID_10126          0\n",
       "\n",
       "[9330 rows x 2 columns]"
      ]
     },
     "execution_count": 115,
     "metadata": {},
     "output_type": "execute_result"
    }
   ],
   "source": [
    "output"
   ]
  },
  {
   "cell_type": "code",
   "execution_count": 117,
   "id": "0c7fb69f",
   "metadata": {},
   "outputs": [],
   "source": [
    "output.to_csv('submision_file.csv',index=False)"
   ]
  },
  {
   "cell_type": "code",
   "execution_count": null,
   "id": "d57b295b",
   "metadata": {},
   "outputs": [],
   "source": []
  }
 ],
 "metadata": {
  "kernelspec": {
   "display_name": "Python 3 (ipykernel)",
   "language": "python",
   "name": "python3"
  },
  "language_info": {
   "codemirror_mode": {
    "name": "ipython",
    "version": 3
   },
   "file_extension": ".py",
   "mimetype": "text/x-python",
   "name": "python",
   "nbconvert_exporter": "python",
   "pygments_lexer": "ipython3",
   "version": "3.9.7"
  }
 },
 "nbformat": 4,
 "nbformat_minor": 5
}
